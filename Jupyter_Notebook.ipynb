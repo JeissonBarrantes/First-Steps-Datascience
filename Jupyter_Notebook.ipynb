{
 "cells": [
  {
   "cell_type": "markdown",
   "metadata": {},
   "source": [
    "<center>\n",
    "    <img src=\"https://cf-courses-data.s3.us.cloud-object-storage.appdomain.cloud/IBMDeveloperSkillsNetwork-DS0105EN-SkillsNetwork/labs/Module2/images/SN_web_lightmode.png\" width=\"300\" alt=\"cognitiveclass.ai logo\">\n",
    "</center>\n"
   ]
  },
  {
   "cell_type": "markdown",
   "metadata": {},
   "source": [
    "#### Add your code below following the instructions given in the course\n"
   ]
  },
  {
   "cell_type": "markdown",
   "metadata": {},
   "source": [
    "# Jupyter_steps_notebook\n",
    "\n",
    "##### This is title of notebook"
   ]
  },
  {
   "cell_type": "markdown",
   "metadata": {},
   "source": [
    "#### Introduction \n",
    "###### In this notebook we will do a excelent performance about first steps for data science in jupyter notebooks"
   ]
  },
  {
   "cell_type": "markdown",
   "metadata": {},
   "source": [
    "# Languages Commonly Used in Data Science\n",
    "\n",
    "Here is a list of programming languages frequently used in data science:\n",
    "\n",
    "1. **Python** - Known for its versatility and wide range of libraries for data analysis, visualization, and machine learning.\n",
    "2. **R** - Excellent for statistical analysis and visualization, especially in academic and research settings.\n",
    "3. **SQL** - Essential for querying and managing data in relational databases.\n",
    "4. **Julia** - Known for its speed and efficiency, especially in numerical and scientific computing.\n",
    "5. **Java** - Often used for building large-scale data-driven applications.\n",
    "6. **Scala** - Popular for working with big data frameworks like Apache Spark.\n",
    "7. **C/C++** - Used for high-performance computing tasks and developing efficient machine learning algorithms.\n",
    "8. **JavaScript** - Gaining popularity for creating interactive visualizations with libraries like D3.js.\n",
    "\n",
    "Each language has its strengths and is chosen based on the specific needs of a project.\n"
   ]
  },
  {
   "cell_type": "markdown",
   "metadata": {},
   "source": [
    "# Libraries Commonly Used in Data Science\n",
    "\n",
    "Here is a list of popular libraries used in data science, categorized by their functionality:\n",
    "\n",
    "## Data Manipulation and Analysis\n",
    "1. **Pandas** - For data manipulation and analysis.\n",
    "2. **NumPy** - For numerical computing and working with arrays.\n",
    "3. **Dask** - For parallel and distributed data manipulation.\n",
    "\n",
    "## Data Visualization\n",
    "1. **Matplotlib** - For creating static, animated, and interactive visualizations.\n",
    "2. **Seaborn** - For statistical data visualization.\n",
    "3. **Plotly** - For creating interactive visualizations.\n",
    "4. **Bokeh** - For interactive and web-based visualizations.\n",
    "\n",
    "## Machine Learning\n",
    "1. **Scikit-learn** - For traditional machine learning algorithms.\n",
    "2. **TensorFlow** - For deep learning and neural networks.\n",
    "3. **PyTorch** - For deep learning, especially popular in research.\n",
    "4. **XGBoost** - For gradient boosting algorithms.\n",
    "5. **LightGBM** - For efficient gradient boosting.\n",
    "\n",
    "## Natural Language Processing (NLP)\n",
    "1. **NLTK** - For natural language processing tasks.\n",
    "2. **spaCy** - For advanced NLP processing.\n",
    "3. **Hugging Face Transformers** - For pre-trained models and NLP tasks.\n",
    "\n",
    "## Big Data and Distributed Computing\n",
    "1. **Apache Spark (PySpark)** - For big data processing.\n",
    "2. **Hadoop** - For distributed storage and processing.\n",
    "\n",
    "## Others\n",
    "1. **OpenCV** - For computer vision tasks.\n",
    "2. **Keras** - For simplifying deep learning model development.\n",
    "3. **Shap** - For explainable machine learning.\n",
    "4. **Scipy** - For scientific computing.\n",
    "\n",
    "These libraries streamline data science workflows, from data preparation to advanced analytics and visualization.\n"
   ]
  },
  {
   "cell_type": "markdown",
   "metadata": {},
   "source": [
    "# Data Science Tools\n",
    "\n",
    "Below is a table listing some popular tools used in data science, categorized by their purposes:\n",
    "\n",
    "| **Category**             | **Tool**                  | **Description**                                                                 |\n",
    "|--------------------------|--------------------------|---------------------------------------------------------------------------------|\n",
    "| **Integrated Development Environments (IDEs)** | Jupyter Notebook        | Interactive environment for coding, visualization, and documentation.          |\n",
    "|                          | RStudio                 | IDE specifically designed for R programming.                                   |\n",
    "|                          | PyCharm                 | IDE tailored for Python development.                                           |\n",
    "|                          | VS Code                 | Lightweight editor with extensive extensions for data science.                 |\n",
    "| **Data Visualization**   | Tableau                 | Powerful tool for creating interactive dashboards and visualizations.          |\n",
    "|                          | Power BI                | Business analytics tool for creating reports and dashboards.                   |\n",
    "|                          | Google Data Studio      | Free tool for creating reports with data visualizations.                       |\n",
    "| **Big Data Frameworks**  | Apache Spark            | Distributed data processing framework for big data.                            |\n",
    "|                          | Hadoop                  | Framework for distributed storage and processing of large datasets.            |\n",
    "| **Machine Learning Platforms** | TensorFlow             | Open-source platform for deep learning.                                        |\n",
    "|                          | PyTorch                 | Deep learning framework widely used in research.                               |\n",
    "|                          | Scikit-learn            | Library for traditional machine learning algorithms.                           |\n",
    "|                          | H2O.ai                  | Open-source platform for AI and machine learning.                              |\n",
    "| **Version Control**      | Git                     | Version control system for tracking code changes.                              |\n",
    "|                          | GitHub                  | Cloud-based platform for hosting Git repositories.                             |\n",
    "|                          | GitLab                  | DevOps platform offering version control and CI/CD pipelines.                  |\n",
    "| **Cloud Platforms**      | AWS                     | Amazon Web Services, offering cloud computing and analytics tools.             |\n",
    "|                          | Google Cloud Platform   | Cloud computing services including AI and big data tools.                      |\n",
    "|                          | Microsoft Azure         | Cloud platform with support for machine learning and analytics.                |\n",
    "| **Data Integration**     | Apache Airflow          | Workflow automation for managing data pipelines.                               |\n",
    "|                          | Knime                   | Open-source platform for data analytics and workflows.                         |\n",
    "|                          | Alteryx                 | Tool for data preparation, blending, and analytics.                            |\n",
    "\n",
    "These tools play essential roles in various aspects of the data science lifecycle, from data preparation to machine learning and deployment.\n"
   ]
  },
  {
   "cell_type": "markdown",
   "metadata": {},
   "source": [
    "# Arithmetic Expressions in Data Science\n",
    "\n",
    "Arithmetic expressions are fundamental in data science for performing calculations, data transformations, and statistical operations. They involve basic mathematical operators to manipulate numbers and variables.\n",
    "\n",
    "Here are some examples of arithmetic expressions:\n",
    "\n",
    "1. **Addition (+):** Adds two numbers.\n",
    "   - Example: `5 + 3 = 8`\n",
    "\n",
    "2. **Subtraction (-):** Subtracts one number from another.\n",
    "   - Example: `10 - 4 = 6`\n",
    "\n",
    "3. **Multiplication (*):** Multiplies two numbers.\n",
    "   - Example: `7 * 3 = 21`\n",
    "\n",
    "4. **Division (/):** Divides one number by another.\n",
    "   - Example: `15 / 5 = 3`\n",
    "\n",
    "5. **Exponentiation (**):** Raises a number to the power of another.\n",
    "   - Example: `2 ** 3 = 8`\n",
    "\n",
    "6. **Modulus (%):** Returns the remainder of a division.\n",
    "   - Example: `10 % 3 = 1`\n",
    "\n",
    "7. **Floor Division (//):** Divides and rounds down to the nearest integer.\n",
    "   - Example: `17 // 3 = 5`\n",
    "\n",
    "Arithmetic expressions are used in programming to create formulas, calculate metrics, and manipulate data efficiently.\n"
   ]
  },
  {
   "cell_type": "markdown",
   "metadata": {},
   "source": [
    "## Multiply and Add"
   ]
  },
  {
   "cell_type": "code",
   "execution_count": 2,
   "metadata": {},
   "outputs": [
    {
     "name": "stdout",
     "output_type": "stream",
     "text": [
      "Result of add: 7\n",
      "Result of multiply: 12\n"
     ]
    }
   ],
   "source": [
    "number_1 = 3\n",
    "number_2 = 4\n",
    "\n",
    "add = number_1 + number_2\n",
    "print(f'Result of add: {add}')\n",
    "\n",
    "mult = number_1 * number_2\n",
    "print(f'Result of multiply: {mult}')\n"
   ]
  },
  {
   "cell_type": "markdown",
   "metadata": {},
   "source": [
    "### Convert minutes to hours"
   ]
  },
  {
   "cell_type": "code",
   "execution_count": 5,
   "metadata": {},
   "outputs": [
    {
     "name": "stdout",
     "output_type": "stream",
     "text": [
      "Minutes 120 to hours 2\n"
     ]
    }
   ],
   "source": [
    "minutes = 120\n",
    "\n",
    "hours = int((1/60)*(minutes))  \n",
    "\n",
    "print(f'Minutes {minutes} to hours {hours}')"
   ]
  },
  {
   "cell_type": "markdown",
   "metadata": {},
   "source": [
    "# Objectives\n",
    "\n",
    "The following are the main objectives:\n",
    "\n",
    "1. **Data Understanding:**  \n",
    "   Gain insights into the structure, quality, and patterns within the data.\n",
    "\n",
    "2. **Data Preprocessing:**  \n",
    "   Clean, transform, and prepare data for analysis or modeling.\n",
    "\n",
    "3. **Exploratory Data Analysis (EDA):**  \n",
    "   Use statistical and visualization techniques to explore relationships and trends.\n",
    "\n",
    "4. **Model Building:**  \n",
    "   Develop predictive or descriptive models using machine learning or statistical methods.\n",
    "\n",
    "5. **Model Evaluation:**  \n",
    "   Assess the performance of models using metrics like accuracy, precision, recall, etc.\n",
    "\n",
    "6. **Deployment:**  \n",
    "   Deploy models or dashboards to enable decision-making and operationalization.\n",
    "\n",
    "7. **Documentation and Reporting:**  \n",
    "   Communicate findings, methodologies, and insights effectively to stakeholders.\n",
    "\n",
    "8. **Continuous Improvement:**  \n",
    "   Iterate and refine processes and models for better results.\n",
    "\n",
    "Each of these objectives plays a crucial role in the data science workflow, driving actionable insights and value from data.\n"
   ]
  },
  {
   "cell_type": "markdown",
   "metadata": {},
   "source": [
    "# Author\n",
    "\n",
    "**Jeisson Barrantes**\n",
    "\n",
    "*Data Scientist and Enthusiast*  \n",
    "*Passionate about transforming data into actionable insights.*\n"
   ]
  },
  {
   "cell_type": "code",
   "execution_count": null,
   "metadata": {},
   "outputs": [],
   "source": []
  }
 ],
 "metadata": {
  "kernelspec": {
   "display_name": "Python 3 (ipykernel)",
   "language": "python",
   "name": "python3"
  },
  "language_info": {
   "codemirror_mode": {
    "name": "ipython",
    "version": 3
   },
   "file_extension": ".py",
   "mimetype": "text/x-python",
   "name": "python",
   "nbconvert_exporter": "python",
   "pygments_lexer": "ipython3",
   "version": "3.11.9"
  }
 },
 "nbformat": 4,
 "nbformat_minor": 4
}
